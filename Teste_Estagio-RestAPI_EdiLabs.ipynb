{
 "cells": [
  {
   "cell_type": "code",
   "execution_count": 10,
   "id": "6554051f",
   "metadata": {},
   "outputs": [],
   "source": [
    "# Vinicius Bezerra Pimentel\n",
    "# Python Jupyter Notebook"
   ]
  },
  {
   "cell_type": "code",
   "execution_count": 11,
   "id": "6738ee65",
   "metadata": {},
   "outputs": [],
   "source": [
    "# Consumir uma API REST do restcountries e com sua resposta realizar uma conversão para um arquivo.txt\n",
    "# contendo os nomes das capitais e seus respectivos idiomas em cada linha do arquivo.\n",
    "# Endpoint: https://restcountries.com/v3.1/independent?status=true&fields=languages,capital \n",
    "\n",
    "# Regras\n",
    "# * Antes da manipulação dos dados, o arquivo deve conter o seu enconding e a data de execução no formato: dd/mm/yyyy \n",
    "#   na primeira linha do arquivo.\n",
    "# * Cada linha deve conter o número da iteração, o nome da capital e seus respectivos idiomas.\n",
    "# * Em cada início de linha você deverá indicar se o índice da capital/iteração é par ou impar, com '+' ou '-'."
   ]
  },
  {
   "cell_type": "code",
   "execution_count": 12,
   "id": "79600624",
   "metadata": {},
   "outputs": [],
   "source": [
    "#Importar as bibliotecas\n",
    "import requests\n",
    "import json\n",
    "import os\n",
    "from unidecode import unidecode\n",
    "from datetime import date"
   ]
  },
  {
   "cell_type": "code",
   "execution_count": 13,
   "id": "4eb2642f",
   "metadata": {},
   "outputs": [],
   "source": [
    "#chamada da API\n",
    "request = requests.get('https://restcountries.com/v3.1/independent?status=true&fields=languages,capital')"
   ]
  },
  {
   "cell_type": "code",
   "execution_count": 14,
   "id": "0201ff97",
   "metadata": {},
   "outputs": [],
   "source": [
    "# carregar o json\n",
    "r = json.loads(request.content.decode('utf-8'))"
   ]
  },
  {
   "cell_type": "code",
   "execution_count": 15,
   "id": "cad54a82",
   "metadata": {},
   "outputs": [],
   "source": [
    "# Função para teste se o número é par ou impar\n",
    "def par_impar(numero):\n",
    "    \n",
    "    #O operador de módulo(%) para obter o resto da divisão\n",
    "    if (numero%2) == 0:\n",
    "        #se o resto da divisão é igual 0 número par e retorna + \n",
    "        return '+'\n",
    "    else:\n",
    "        #caso contrário retorna - impar\n",
    "        return '-'"
   ]
  },
  {
   "cell_type": "code",
   "execution_count": 16,
   "id": "fd4d2170",
   "metadata": {},
   "outputs": [],
   "source": [
    "# Função para remover caracteres \n",
    "def remover_caracter(string):\n",
    "    #Utilizando replace, quando encontra o caracter substitui por vazio \"\"\n",
    "    return string.replace(\"['\", \"\").replace(\"']\", \"\").replace('[\"', \"\").replace('\"]', \"\")"
   ]
  },
  {
   "cell_type": "code",
   "execution_count": 17,
   "id": "ea70b07c",
   "metadata": {},
   "outputs": [],
   "source": [
    "# inicialização da variável contador do for\n",
    "cont = 0\n",
    "\n",
    "# variável com a data corrente e formatação d(dia), m(mes), Y(ano)\n",
    "data = date.today().strftime(\"%d/%m/%Y\")\n",
    "\n",
    "#manipulando o arquivo txt\n",
    "with open(\"arquivo.txt\", \"w\") as arquivo:\n",
    "    \n",
    "    #Escrevendo a primeira linha do arquivo de acordo com a regra\n",
    "    arquivo.write(f\"Encoding: {request.encoding}, Data: {data} \\n\\n\")\n",
    "    \n",
    "    #iteração para cada linha\n",
    "    for linha in r:\n",
    "        \n",
    "        #chamada para função par_impar e testar se o valor da variável cont é par ou impar\n",
    "        par_impar(cont)\n",
    "        \n",
    "        #formatando cada linha do arquivo de acordo com a regra e pulando linha (\\n) para cada capital.\n",
    "        conteudo = remover_caracter(f\"{par_impar(cont)} Capital nº {cont}, Nome: {linha['capital']}, Idiomas: {linha['languages']} \\n\")\n",
    "        \n",
    "        #escrevendo no arquivo e utilizando o padrão Unicode\n",
    "        arquivo.write(unidecode(conteudo))\n",
    "        \n",
    "        #incremento + 1 na variavel de iteração\n",
    "        cont = cont + 1\n"
   ]
  },
  {
   "cell_type": "code",
   "execution_count": null,
   "id": "0afb2a44",
   "metadata": {},
   "outputs": [],
   "source": []
  }
 ],
 "metadata": {
  "kernelspec": {
   "display_name": "Python 3 (ipykernel)",
   "language": "python",
   "name": "python3"
  },
  "language_info": {
   "codemirror_mode": {
    "name": "ipython",
    "version": 3
   },
   "file_extension": ".py",
   "mimetype": "text/x-python",
   "name": "python",
   "nbconvert_exporter": "python",
   "pygments_lexer": "ipython3",
   "version": "3.9.12"
  }
 },
 "nbformat": 4,
 "nbformat_minor": 5
}
